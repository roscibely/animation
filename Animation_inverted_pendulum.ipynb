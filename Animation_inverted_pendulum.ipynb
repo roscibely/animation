{
  "nbformat": 4,
  "nbformat_minor": 0,
  "metadata": {
    "colab": {
      "name": "Animation inverted pendulum.ipynb",
      "provenance": [],
      "collapsed_sections": [],
      "authorship_tag": "ABX9TyMx8M/UnEDuhZBGglYNGTQX",
      "include_colab_link": true
    },
    "kernelspec": {
      "name": "python3",
      "display_name": "Python 3"
    }
  },
  "cells": [
    {
      "cell_type": "markdown",
      "metadata": {
        "id": "view-in-github",
        "colab_type": "text"
      },
      "source": [
        "<a href=\"https://colab.research.google.com/github/roscibely/animation/blob/main/Animation_inverted_pendulum.ipynb\" target=\"_parent\"><img src=\"https://colab.research.google.com/assets/colab-badge.svg\" alt=\"Open In Colab\"/></a>"
      ]
    },
    {
      "cell_type": "markdown",
      "metadata": {
        "id": "Vy15pndmXMz-"
      },
      "source": [
        "# 1. Inverted pendulum animation\n",
        "\n",
        "This animation illustrates the inverted pendulum problem."
      ]
    },
    {
      "cell_type": "code",
      "metadata": {
        "id": "XQRLq3vpFbo2"
      },
      "source": [
        "from numpy import sin, cos\n",
        "import numpy as np\n",
        "import matplotlib.pyplot as plt\n",
        "import scipy.integrate as integrate\n",
        "import matplotlib.animation as animation\n",
        "from matplotlib.lines import Line2D"
      ],
      "execution_count": 1,
      "outputs": []
    },
    {
      "cell_type": "code",
      "metadata": {
        "id": "LQSdhW2H4b46"
      },
      "source": [
        "#System function without control\n",
        "def f(y,t) :\n",
        "    #parameters\n",
        "    G = 9.81 \n",
        "    L = 0.5  \n",
        "    m = 0.15  \n",
        "    b = 0.01   \n",
        "    x1,x2 = y    \n",
        "    u = 0 #no control\n",
        "    dydt =[x2,  (m*G*L*sin(x1) + u - b*x2) / (m*L**2)]\n",
        "    return dydt\n",
        "\n",
        "#System function with control\n",
        "def fu(y,t) :\n",
        "    #parameters\n",
        "    G = 9.81 \n",
        "    L = 0.5  \n",
        "    m = 0.15  \n",
        "    b = 0.01   \n",
        "    x1,x2 = y    \n",
        "    Ku = np.matrix([[-14.6979, -4.7556]]) #control\n",
        "    u = (Ku.item(0)*x1 + Ku.item(1)*x2)\n",
        "    dydt =[x2,  (m*G*L*sin(x1) + u - b*x2) / (m*L**2)]\n",
        "    return dydt\n",
        "\n",
        "L = 0.5 \n",
        "t = np.arange(0.0, 10, 0.05) # create a time array from 0..10 sampled at 0.05 second steps\n",
        "th = 60                      # initial angles (degrees)\n",
        "w = 0                        # initial angular velocities (degrees per second)\n",
        "state = np.radians([th, w])  # initial state\n",
        "\n",
        "# integrate your ODE using scipy.integrate.\n",
        "y = integrate.odeint(f, state, t)\n",
        "x1 = L*sin(y[:, 0])\n",
        "y1 = -L*cos(y[:, 0])\n",
        "\n",
        "y = integrate.odeint(fu, state, t)\n",
        "xc = L*sin(y[:, 0])\n",
        "yc = -L*cos(y[:, 0])"
      ],
      "execution_count": 4,
      "outputs": []
    },
    {
      "cell_type": "code",
      "metadata": {
        "colab": {
          "base_uri": "https://localhost:8080/",
          "height": 311
        },
        "id": "tEwsT3scgMI5",
        "outputId": "ac9dd6e2-885a-4a8a-f8a0-45b0db035dd7"
      },
      "source": [
        "class SubplotAnimation(animation.TimedAnimation):\r\n",
        "    def __init__(self):\r\n",
        "        fig = plt.figure()\r\n",
        "        ax1 = fig.add_subplot(2, 2, 1)\r\n",
        "        ax2 = fig.add_subplot(2, 2, 2)\r\n",
        "        ax3 = fig.add_subplot(2, 2, 3)\r\n",
        "        ax4 = fig.add_subplot(2, 2, 4)\r\n",
        "        fig.tight_layout() \r\n",
        "        self.t = np.arange(0.0, 10, 0.05)\r\n",
        "        self.x=x1\r\n",
        "        self.y=y1\r\n",
        "        self.xc=xc\r\n",
        "        self.yc=yc\r\n",
        "\r\n",
        "\r\n",
        "        self.line1 = Line2D(\r\n",
        "            [], [], color='red', marker='o', markeredgecolor='b')\r\n",
        "        ax1.add_line(self.line1)\r\n",
        "        ax1.set_xlim(-1, 1)\r\n",
        "        ax1.set_ylim(-0.1, 0.75)\r\n",
        "        ax1.legend(['No control'])\r\n",
        "        ax1.set_aspect('equal', 'datalim')\r\n",
        "\r\n",
        "\r\n",
        "        self.line2 = Line2D([], [], color='black')\r\n",
        "        self.line2a = Line2D([], [], color='red', linewidth=2)\r\n",
        "        self.line2e = Line2D(\r\n",
        "            [], [], color='red', marker='o', markeredgecolor='b')\r\n",
        "        ax2.add_line(self.line2)\r\n",
        "        ax2.add_line(self.line2a)\r\n",
        "        ax2.add_line(self.line2e)\r\n",
        "        ax2.set_xlim(0, 10)\r\n",
        "        ax2.set_ylim(-1, 1)\r\n",
        "        ax2.grid(True)\r\n",
        "        ax2.legend(['Angular position'])\r\n",
        "\r\n",
        "\r\n",
        "        ax3.set_xlabel('Angular position')\r\n",
        "        self.line3 = Line2D(\r\n",
        "            [], [], color='green', marker='o', markeredgecolor='b',  linewidth=2)\r\n",
        "        ax3.add_line(self.line3)\r\n",
        "        ax3.set_xlim(-1, 1)\r\n",
        "        ax3.set_ylim(-0.1, 0.75)\r\n",
        "        ax3.legend(['Controlled'])\r\n",
        "        ax1.set_aspect('equal', 'datalim')\r\n",
        "\r\n",
        "        self.line4 = Line2D([], [], color='black')\r\n",
        "        self.line4e = Line2D([], [], color='red', linewidth=2)\r\n",
        "        self.line4a = Line2D(\r\n",
        "            [], [], color='green', marker='o', markeredgecolor='b')\r\n",
        "        ax4.add_line(self.line4)\r\n",
        "        ax4.add_line(self.line4a)\r\n",
        "        ax4.add_line(self.line4e)\r\n",
        "        ax4.set_xlim(0, 10)\r\n",
        "        ax4.set_ylim(-0.1, 1)\r\n",
        "        ax4.grid(True)\r\n",
        "        ax4.set_xlabel('Time (s)')\r\n",
        "        ax4.legend(['Angular position'])\r\n",
        "\r\n",
        "        animation.TimedAnimation.__init__(self, fig, interval=50, blit=True)\r\n",
        "\r\n",
        "    def _draw_frame(self, framedata):\r\n",
        "        i = framedata\r\n",
        "        head_slice = (self.t > self.t[i] - 1.0) & (self.t < self.t[i])\r\n",
        "\r\n",
        "        self.line1.set_data([0, self.x[i]], [0, self.y[i]])\r\n",
        "\r\n",
        "        self.line2.set_data(self.t, self.y)\r\n",
        "        self.line2a.set_data(self.t[head_slice], self.y[head_slice])\r\n",
        "        self.line2e.set_data(self.t[i - 1], self.y[i - 1])\r\n",
        "\r\n",
        "        self.line3.set_data([0,-self.xc[i]], [0,-self.yc[i]])\r\n",
        "\r\n",
        "        self.line4.set_data(self.t, self.xc)\r\n",
        "        self.line4a.set_data(self.t[head_slice], self.xc[head_slice])\r\n",
        "        self.line4e.set_data(self.t[i - 1], self.xc[i - 1])\r\n",
        "\r\n",
        "        self._drawn_artists = [self.line1, \r\n",
        "                               self.line2, self.line2a, self.line2e,\r\n",
        "                               self.line3,\r\n",
        "                               self.line4, self.line4a, self.line4e]\r\n",
        "\r\n",
        "    def new_frame_seq(self):\r\n",
        "        return iter(range(self.t.size))\r\n",
        "\r\n",
        "    def _init_draw(self):\r\n",
        "        lines = [self.line1,\r\n",
        "                 self.line2, self.line2a, self.line2e,\r\n",
        "                 self.line3,\r\n",
        "                 self.line4, self.line4a, self.line4e]\r\n",
        "        for l in lines:\r\n",
        "            l.set_data([], [])\r\n",
        "\r\n",
        "ani = SubplotAnimation()\r\n",
        "ani.save('video.mp4')\r\n",
        "plt.show()"
      ],
      "execution_count": 9,
      "outputs": [
        {
          "output_type": "display_data",
          "data": {
            "image/png": "[encoded data removed]",
            "text/plain": [
              "<Figure size 432x288 with 4 Axes>"
            ]
          },
          "metadata": {
            "tags": [],
            "needs_background": "light"
          }
        }
      ]
    }
  ]
}